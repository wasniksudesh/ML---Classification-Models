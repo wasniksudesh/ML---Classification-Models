{
  "nbformat": 4,
  "nbformat_minor": 0,
  "metadata": {
    "colab": {
      "name": "KNN(Adult Census)-binary.ipynb",
      "provenance": [],
      "collapsed_sections": []
    },
    "kernelspec": {
      "name": "python3",
      "display_name": "Python 3"
    },
    "accelerator": "TPU"
  },
  "cells": [
    {
      "cell_type": "code",
      "metadata": {
        "id": "H_UvdFEjWYO8",
        "colab_type": "code",
        "outputId": "2d077c1a-b1cc-4cff-9dac-182ec3aed1d4",
        "colab": {
          "base_uri": "https://localhost:8080/",
          "height": 51
        }
      },
      "source": [
        "# Next Attempt \n",
        "# KNN ADULT \n",
        "import numpy as np\n",
        "import pandas as pd\n",
        "\n",
        "\n",
        "f=open(\"/content/PCA-3.csv\")\n",
        "df=pd.read_csv(f);\n",
        "ran=[];\n",
        "minn=[];\n",
        "for i in df:\n",
        "    l=df[i].tolist()\n",
        "    a,b=min(l),max(l)\n",
        "    minn.append(a)\n",
        "    ran.append(b-a)\n",
        "\n",
        "\n",
        "f=open(\"/content/PCA-3.csv\")\n",
        "data=[]\n",
        "label=[]\n",
        "temp=0;\n",
        "for i in f:\n",
        "    if(temp==0):\n",
        "        temp=1\n",
        "        continue\n",
        "    l=i.split(\",\")\n",
        "    label.append(float(l[-1][0]))\n",
        "    l=[round((float(l[i])-minn[i])/ran[i],2) for i in range(len(l))]\n",
        "\n",
        "    l=l[:-1]\n",
        "    l=[float(j) for j in l];\n",
        "    data.append(l)\n",
        "n=len(data)\n",
        "m=len(data[0])\n",
        "print(n)\n",
        "data=data[:5000]\n",
        "base=data;\n",
        "test=data[3500:]\n",
        "train=data[:3500];\n",
        "test_label=label[3500:]\n",
        "train_label=label[:3500]\n",
        "n=len(train)\n",
        "print(n)"
      ],
      "execution_count": 0,
      "outputs": [
        {
          "output_type": "stream",
          "text": [
            "30718\n",
            "3500\n"
          ],
          "name": "stdout"
        }
      ]
    },
    {
      "cell_type": "code",
      "metadata": {
        "id": "QyCmZ8LrMcnY",
        "colab_type": "code",
        "outputId": "70d9ec21-f607-4896-da44-552abf89236e",
        "colab": {
          "base_uri": "https://localhost:8080/",
          "height": 51
        }
      },
      "source": [
        "# Sidha test\n",
        "import bisect\n",
        "k=4\n",
        "\n",
        "count=0\n",
        "siba=0;\n",
        "anss=[0]\n",
        "ans=[]\n",
        "\n",
        "arr=[10000]*k\n",
        "chap=[0]*k\n",
        "for x in (test):\n",
        "#     x=test[j\n",
        "    for i in range(len(train)):\n",
        "        d=np.linalg.norm(np.array(x)-np.array(data[i]));\n",
        "        index=bisect.bisect_right(arr,d)\n",
        "        if(index<k):\n",
        "            chap[index]=label[i];\n",
        "        bisect.insort(arr,d);\n",
        "\n",
        "        arr=arr[:k];\n",
        "    if(chap.count(0)>chap.count(1)):\n",
        "        ans.append(0)\n",
        "    else:\n",
        "        ans.append(1)\n",
        "    if(test_label[count]==ans[-1]):\n",
        "        siba+=1\n",
        "    count+=1\n",
        "\n",
        "\n",
        "# print([int(i) for i in test_label[100:]])\n",
        "# print(ans)\n",
        "# print(ans.count(0),test_label.count(0))\n",
        "print(siba/len(test))\n",
        "count=0;\n",
        "anss.append(siba)\n",
        "for i in range(len(ans)):\n",
        "    if(ans[i]==test_label[i]):\n",
        "        count+=1;\n",
        "print(count/len(test))"
      ],
      "execution_count": 0,
      "outputs": [
        {
          "output_type": "stream",
          "text": [
            "0.18533333333333332\n",
            "0.18533333333333332\n"
          ],
          "name": "stdout"
        }
      ]
    },
    {
      "cell_type": "code",
      "metadata": {
        "id": "oxczuiTkfmMC",
        "colab_type": "code",
        "outputId": "60bd559c-f1d0-417e-9a0d-50073d86ce2f",
        "colab": {
          "base_uri": "https://localhost:8080/",
          "height": 35
        }
      },
      "source": [
        "4 - 0.556\n"
      ],
      "execution_count": 0,
      "outputs": [
        {
          "output_type": "stream",
          "text": [
            "[0]\n"
          ],
          "name": "stdout"
        }
      ]
    }
  ]
}